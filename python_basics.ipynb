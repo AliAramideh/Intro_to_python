{
  "cells": [
    {
      "cell_type": "markdown",
      "metadata": {
        "id": "view-in-github",
        "colab_type": "text"
      },
      "source": [
        "<a href=\"https://colab.research.google.com/github/AliAramideh/Intro_to_python/blob/main/python_basics.ipynb\" target=\"_parent\"><img src=\"https://colab.research.google.com/assets/colab-badge.svg\" alt=\"Open In Colab\"/></a>"
      ]
    },
    {
      "cell_type": "markdown",
      "source": [
        "<center>\n",
        "\n",
        "---\n",
        "\n",
        "In The Name Of God\n",
        "<center>"
      ],
      "metadata": {
        "id": "wou_tu9lMcsA"
      }
    },
    {
      "cell_type": "markdown",
      "source": [
        "# Author: **Ali Aramideh**\n",
        "#### email: **ali.s.aramideh@gmail.com**"
      ],
      "metadata": {
        "id": "Wh0LJMmJMe3x"
      }
    },
    {
      "cell_type": "markdown",
      "metadata": {
        "id": "c7wdMyNNzf49"
      },
      "source": [
        "<h1 align=\"center\">An Introduction to Python\n",
        "\n",
        "Welcome to python. This exercise gives you a brief introduction to Python."
      ]
    },
    {
      "cell_type": "markdown",
      "metadata": {
        "id": "lyOsKSguzf5A"
      },
      "source": [
        "## About iPython Notebooks ##\n",
        "\n",
        "iPython Notebooks are interactive coding environments embedded in a webpage. If you want to do it yourself, you only need to write code between the `### START CODE HERE ###` and `### END CODE HERE ###` comments( you can download and complete `exercise.ipynb` file from <a href=\"https://github.com/AliAramideh/Intro_to_python\">my GitHub</a>.\n",
        "\n",
        "We will be using iPython notebooks in this exercises. After writing your code, you can run the cell by either pressing \"SHIFT\"+\"ENTER\" or by clicking on \"Run Cell\" (denoted by a play symbol) in the upper bar of the notebook.\n",
        "\n",
        "**Exercise**: Set test to `\"Hello World\"` in the cell below to print \"Hello World\" and run the two cells below."
      ]
    },
    {
      "cell_type": "code",
      "execution_count": 1,
      "metadata": {
        "id": "cVMoOWUlzf5A",
        "colab": {
          "base_uri": "https://localhost:8080/"
        },
        "outputId": "fad060d9-b08b-47ca-f52e-a14d55a4700f"
      },
      "outputs": [
        {
          "output_type": "stream",
          "name": "stdout",
          "text": [
            "Hello World\n"
          ]
        }
      ],
      "source": [
        "### START CODE HERE ###\n",
        "test = 'Hello World'\n",
        "print(test)\n",
        "### END CODE HERE ###"
      ]
    },
    {
      "cell_type": "markdown",
      "metadata": {
        "id": "mJZfkY87zf5B"
      },
      "source": [
        "**What you need to remember**:\n",
        "- Run your cells using SHIFT+ENTER (or \"Run cell\")\n",
        "- Write code in the designated areas using Python 3 only\n",
        "- Do not modify the code outside of the designated areas"
      ]
    },
    {
      "cell_type": "markdown",
      "metadata": {
        "id": "ZdmzMwNpzf5B"
      },
      "source": [
        "# 1.\n",
        ">What are the lengths of the following lists and strings below? Fill in the variable `lengths` with your predictions. (Try to make a prediction for each list *without* just calling `len()` on it.)"
      ]
    },
    {
      "cell_type": "code",
      "execution_count": 2,
      "metadata": {
        "id": "Yh3d2hZ4zf5C",
        "colab": {
          "base_uri": "https://localhost:8080/"
        },
        "outputId": "ddb7528f-ec47-4531-ad42-ecfbfdca6625"
      },
      "outputs": [
        {
          "output_type": "stream",
          "name": "stdout",
          "text": [
            "[3, 2, 0, 2, 7, 0, 3, 1]\n"
          ]
        }
      ],
      "source": [
        "a = [1, 2, 3]\n",
        "b = [1, [2, 3]]\n",
        "c = []\n",
        "d = [1, 2, 3][1:]\n",
        "e = 'it\\'s ok'\n",
        "f = \"\"\n",
        "g = \"\"\"hey\"\"\"\n",
        "h = '\\n'\n",
        "\n",
        "# Put your predictions in the list below. Lengths should contain 8 numbers, the\n",
        "# first being the length of a, the second being the length of b and so on.\n",
        "##My predictions: 3, 2, 0, 2, 6, 0, 3, 1;\n",
        "### START CODE HERE ###\n",
        "len_a = len(a)\n",
        "len_b = len(b)\n",
        "len_c = len(c)\n",
        "len_d = len(d)\n",
        "len_e = len(e)\n",
        "len_f = len(f)\n",
        "len_g = len(g)\n",
        "len_h = len(h)\n",
        "lengths = [len_a, len_b, len_c, len_d, len_e, len_f, len_g, len_h]\n",
        "print(lengths)\n",
        "### END CODE HERE ###"
      ]
    },
    {
      "cell_type": "markdown",
      "metadata": {
        "id": "dMxFzKopzf5C"
      },
      "source": [
        "# 2.\n",
        ">Swap the values to which a and b refer."
      ]
    },
    {
      "cell_type": "code",
      "execution_count": 3,
      "metadata": {
        "id": "HXlpbPVYzf5C",
        "colab": {
          "base_uri": "https://localhost:8080/"
        },
        "outputId": "c036c6dc-d7c2-40d7-8bbf-aa6cd111fed1"
      },
      "outputs": [
        {
          "output_type": "stream",
          "name": "stdout",
          "text": [
            "a= [3, 2, 1] b= [1, 2, 3]\n"
          ]
        }
      ],
      "source": [
        "a = [1, 2, 3]\n",
        "b = [3, 2, 1]\n",
        "\n",
        "### START CODE HERE ###\n",
        "myList = a.copy()\n",
        "a = b\n",
        "b = myList\n",
        "print('a=', a, 'b=', b)\n",
        "### END CODE HERE ###"
      ]
    },
    {
      "cell_type": "markdown",
      "metadata": {
        "id": "igr3m4pXzf5C"
      },
      "source": [
        "# 3.\n",
        ">Which of the two variables below has the smallest absolute value? Use Python's built-in functions."
      ]
    },
    {
      "cell_type": "code",
      "execution_count": 4,
      "metadata": {
        "id": "tAy0qBDezf5C",
        "colab": {
          "base_uri": "https://localhost:8080/"
        },
        "outputId": "4c05ba0c-0a82-40d4-b415-a6ef2603ff7d"
      },
      "outputs": [
        {
          "output_type": "stream",
          "name": "stdout",
          "text": [
            "5\n"
          ]
        }
      ],
      "source": [
        "x = -10\n",
        "y = 5\n",
        "\n",
        "### START CODE HERE ###\n",
        "x = abs(x)\n",
        "y = abs(y)\n",
        "myList = [x, y]\n",
        "myList.sort()\n",
        "smallest_abs = myList[0]\n",
        "print(smallest_abs)\n",
        "### END CODE HERE ###"
      ]
    },
    {
      "cell_type": "markdown",
      "metadata": {
        "id": "-55kY-Cqzf5C"
      },
      "source": [
        "# 4.\n",
        "\n",
        "> A simple exercise! Run the cell below and try to explain the results for yourself:\n",
        "\n"
      ]
    },
    {
      "cell_type": "code",
      "execution_count": 5,
      "metadata": {
        "id": "_dpAa1Q4zf5D",
        "colab": {
          "base_uri": "https://localhost:8080/"
        },
        "outputId": "337ca776-220d-422a-d6f4-9c1cec94f568"
      },
      "outputs": [
        {
          "output_type": "stream",
          "name": "stdout",
          "text": [
            "1.0\n",
            "0.0\n",
            "1.0\n"
          ]
        }
      ],
      "source": [
        "print( 1.0 + 1.0 - 1.0 )            ##Obvious;\n",
        "print( 1.0 + 1.0e20 - 1.0e20 )      ##calculate \"1.0 + 1.0e20\" that is \"1.0e20\" approximately, then add to \"-1.0e20\" that will be \"0\";\n",
        "print( 1.0e20 - 1.0e20 + 1 )        ##calculate \"1.0e20 - 1.0e20\" that is \"0\", then add to \"1.0\" that will be \"1.0\";"
      ]
    },
    {
      "cell_type": "markdown",
      "metadata": {
        "id": "3G2-lTfDzf5D"
      },
      "source": [
        "# 5.\n",
        ">Many programming languages have [`sign`](https://en.wikipedia.org/wiki/Sign_function) available as a built-in function. Python doesn't, but we can define our own!\n",
        "In the cell below, define a function called `sign` which takes a numerical argument and returns -1 if it's negative, 1 if it's positive, and 0 if it's 0."
      ]
    },
    {
      "cell_type": "code",
      "execution_count": 6,
      "metadata": {
        "id": "ASICcFwYzf5D",
        "colab": {
          "base_uri": "https://localhost:8080/"
        },
        "outputId": "37817692-aabe-45ca-91bc-6de1beca2e54"
      },
      "outputs": [
        {
          "output_type": "stream",
          "name": "stdout",
          "text": [
            "1\n",
            "-1\n",
            "0\n"
          ]
        }
      ],
      "source": [
        "def sign(x):\n",
        "    # (\"pass\" is a keyword that does literally nothing. We used it as a placeholder\n",
        "    # because after we begin a code block, Python requires at least one line of code)\n",
        "    ### START CODE HERE ###\n",
        "    if x > 0 :\n",
        "        return 1\n",
        "    elif x == 0 :\n",
        "        return 0\n",
        "    elif x < 0 :\n",
        "        return -1\n",
        "    ### END CODE HERE ###\n",
        "    pass\n",
        "\n",
        "# You can try different examples to check your function:\n",
        "print(sign(2))\n",
        "print(sign(-2))\n",
        "print(sign(0))"
      ]
    },
    {
      "cell_type": "markdown",
      "metadata": {
        "id": "6on-t1f0zf5D"
      },
      "source": [
        "# 6.\n",
        ">Complete the body of the following function according to its docstring.\n",
        "\n",
        "HINT: Python has a built-in function `round`."
      ]
    },
    {
      "cell_type": "code",
      "execution_count": 7,
      "metadata": {
        "id": "VINxi-ngzf5D",
        "colab": {
          "base_uri": "https://localhost:8080/"
        },
        "outputId": "f878af9c-9d25-438a-9a51-770d93e85242"
      },
      "outputs": [
        {
          "output_type": "execute_result",
          "data": {
            "text/plain": [
              "10.0"
            ]
          },
          "metadata": {},
          "execution_count": 7
        }
      ],
      "source": [
        "def round_to_two_places(num):\n",
        "    \"\"\"Return the given number rounded to two decimal places.\n",
        "\n",
        "    >>> round_to_two_places(3.14159)\n",
        "    3.14\n",
        "    \"\"\"\n",
        "    ### START CODE HERE ###\n",
        "    num = round(num, 2)\n",
        "    return num\n",
        "    ### END CODE HERE ###\n",
        "    pass\n",
        "\n",
        "round_to_two_places(9.9999)"
      ]
    },
    {
      "cell_type": "markdown",
      "metadata": {
        "id": "5FtTkgU6zf5D"
      },
      "source": [
        "The help for `round` says that `ndigits` (the second argument) may be negative.\n",
        "What do you think will happen when it is? Try an example in the cell below."
      ]
    },
    {
      "cell_type": "code",
      "execution_count": 8,
      "metadata": {
        "id": "G6_vfswBzf5D",
        "colab": {
          "base_uri": "https://localhost:8080/"
        },
        "outputId": "6fbde810-bd35-4389-85f8-53930bdc946d"
      },
      "outputs": [
        {
          "output_type": "execute_result",
          "data": {
            "text/plain": [
              "238.43"
            ]
          },
          "metadata": {},
          "execution_count": 8
        }
      ],
      "source": [
        "round(238.4263, 2)"
      ]
    },
    {
      "cell_type": "markdown",
      "metadata": {
        "id": "i3sKJk1jzf5D"
      },
      "source": [
        "# 7.\n",
        "> Write a function that evaluates the polynomial $${3x^2 − x + 2}$$"
      ]
    },
    {
      "cell_type": "code",
      "execution_count": 9,
      "metadata": {
        "id": "cKy7RJVTzf5E",
        "colab": {
          "base_uri": "https://localhost:8080/"
        },
        "outputId": "ef9156bd-a513-4833-92c3-b6449da773fe"
      },
      "outputs": [
        {
          "output_type": "stream",
          "name": "stdout",
          "text": [
            "72\n"
          ]
        }
      ],
      "source": [
        "def polynomial(x):\n",
        "    ### START CODE HERE ###\n",
        "    y = 3*(x*x) - x + 2\n",
        "    return y\n",
        "    ### END CODE HERE ###\n",
        "    pass\n",
        "print(polynomial(5))"
      ]
    },
    {
      "cell_type": "markdown",
      "metadata": {
        "id": "HI8Nje1Jzf5E"
      },
      "source": [
        "# 8.\n",
        ">Complete the function below according to its docstring."
      ]
    },
    {
      "cell_type": "code",
      "execution_count": 10,
      "metadata": {
        "id": "4pDj20lbzf5E",
        "colab": {
          "base_uri": "https://localhost:8080/"
        },
        "outputId": "ff61cd7c-feef-4e9a-fda5-e93f45a203b2"
      },
      "outputs": [
        {
          "output_type": "stream",
          "name": "stdout",
          "text": [
            "[0, 1, 2, 3, 4, 5, 6, 7, 8, 9] 1\n"
          ]
        }
      ],
      "source": [
        "def select_second(L):\n",
        "    \"\"\"Return the second element of the given list. If the list has no second\n",
        "    element, return None.\n",
        "    \"\"\"\n",
        "    ### START CODE HERE ###\n",
        "    if len(L) <= 1 :\n",
        "        return None\n",
        "    else :\n",
        "        return L[1]\n",
        "    ### END CODE HERE ###\n",
        "    pass\n",
        "testList = list(range(10))\n",
        "print(testList, select_second(testList))"
      ]
    },
    {
      "cell_type": "markdown",
      "metadata": {
        "id": "uHty8trFzf5E"
      },
      "source": [
        "# 9.**\n",
        ">We're using lists to record people who attended a class and what order they arrived in. For example, the following list represents a class with 7 students, in which 'Amirhossein' showed up first and 'Pedram' was the last to arrive:\n",
        "    \n",
        "> class_attendees = ['Amirhossein', 'Hadi', 'Fatemeh', 'Mahtab', 'Ali', 'Nasim', 'Pedram']\n",
        "\n",
        "> A student is considered 'fashionably late' if they arrived after at least half of the class's students. However, they must not be the very last student (that's taking it too far). In the above example, Ali and Nasim are the only students who were fashionably late.\n",
        "Complete the function below which takes a list of class attendees as well as a person, and tells us whether that person is fashionably late."
      ]
    },
    {
      "cell_type": "code",
      "execution_count": 11,
      "metadata": {
        "id": "8xOjqaTvzf5E",
        "colab": {
          "base_uri": "https://localhost:8080/"
        },
        "outputId": "d0054893-30bb-4629-c79c-de0a70173a02"
      },
      "outputs": [
        {
          "output_type": "stream",
          "name": "stdout",
          "text": [
            "fashionably late\n",
            "Good student\n"
          ]
        }
      ],
      "source": [
        "def fashionably_late(arrivals, name):\n",
        "    \"\"\"Given an ordered list of arrivals to the class and a name, return whether the student with that\n",
        "    name was fashionably late.\n",
        "    \"\"\"\n",
        "    ### START CODE HERE ###\n",
        "    arrive = arrivals.index(name)\n",
        "    if arrive >= len(arrivals) / 2 and arrive < len(arrivals) - 1 :\n",
        "        return 'fashionably late'\n",
        "    else :\n",
        "        return 'Good student'\n",
        "    ### END CODE HERE ###\n",
        "    pass\n",
        "class_attendees = ['Amirhossein', 'Hadi', 'Fatemeh', 'Mahtab', 'Ali', 'Nasim', 'Pedram']\n",
        "print(fashionably_late(class_attendees, 'Nasim'))\n",
        "print(fashionably_late(class_attendees, 'Hadi'))"
      ]
    },
    {
      "cell_type": "markdown",
      "metadata": {
        "id": "xYVP-8eWzf5E"
      },
      "source": [
        "# 10.\n",
        ">Complete the function below according to its docstring."
      ]
    },
    {
      "cell_type": "code",
      "execution_count": 12,
      "metadata": {
        "id": "HQ-mpu1zzf5E",
        "colab": {
          "base_uri": "https://localhost:8080/"
        },
        "outputId": "e6f20b94-b1af-4c6b-f8c2-645c3efaf0f4"
      },
      "outputs": [
        {
          "output_type": "stream",
          "name": "stdout",
          "text": [
            "1 None\n"
          ]
        }
      ],
      "source": [
        "def has_lucky_number(nums):\n",
        "    \"\"\"Return whether the given list of numbers is lucky. A lucky list contains\n",
        "    at least one number divisible by 7.\n",
        "    \"\"\"\n",
        "    ### START CODE HERE ###\n",
        "    for i in range(len(nums)) :\n",
        "        if nums[i] % 7 == 0 :\n",
        "            return 1\n",
        "        else :\n",
        "            continue\n",
        "    ### END CODE HERE ###\n",
        "    pass\n",
        "myList1 = [6, 18, 19, 3, 14]\n",
        "x = has_lucky_number(myList1)\n",
        "myList2 = [2, 3, 12, 13, 19, 16]\n",
        "y = has_lucky_number(myList2)\n",
        "print(x, y)"
      ]
    },
    {
      "cell_type": "markdown",
      "metadata": {
        "id": "tp4MIqyozf5E"
      },
      "source": [
        "# 11.\n",
        "\n",
        ">Complete the body of the function below according to its docstring."
      ]
    },
    {
      "cell_type": "code",
      "execution_count": 13,
      "metadata": {
        "id": "28PSD7eKzf5F",
        "colab": {
          "base_uri": "https://localhost:8080/"
        },
        "outputId": "c3550bcc-7a60-4261-f773-df240f4fff2a"
      },
      "outputs": [
        {
          "output_type": "execute_result",
          "data": {
            "text/plain": [
              "1"
            ]
          },
          "metadata": {},
          "execution_count": 13
        }
      ],
      "source": [
        "def menu_is_boring(meals):\n",
        "    \"\"\"Given a list of meals served over some period of time, return True if the\n",
        "    same meal has ever been served two days in a row, and False otherwise.\n",
        "    \"\"\"\n",
        "    ### START CODE HERE ###\n",
        "    j = 0\n",
        "    lenMeals = len(meals)\n",
        "    memory = []\n",
        "    for x in meals :\n",
        "        if x == memory :\n",
        "            j+=1\n",
        "        else :\n",
        "            continue\n",
        "        memory = x.copy()\n",
        "    if j == 0 :\n",
        "        return 1\n",
        "    ### END CODE HERE ###\n",
        "    pass\n",
        "myMeals = ['Kebab', 'Pizza', 'Pizza', 'Chicken Kebab', 'Kebab']\n",
        "menu_is_boring(myMeals)"
      ]
    },
    {
      "cell_type": "markdown",
      "metadata": {
        "id": "WxphNvtzzf5F"
      },
      "source": [
        "# 12.\n",
        "\n",
        "> There is a saying that \"Data scientists spend 80% of their time cleaning data, and 20% of their time complaining about cleaning data.\" Let's see if you can write a function to help clean US zip code data. Given a string, it should return whether or not that string represents a valid zip code. For our purposes, a valid zip code is any string consisting of exactly 5 digits.\n",
        "\n",
        "HINT: `str` has a method that will be useful here. Use `help(str)` to review a list of string methods."
      ]
    },
    {
      "cell_type": "code",
      "execution_count": 14,
      "metadata": {
        "id": "XcFXXWPPIsnS"
      },
      "outputs": [],
      "source": [
        "def convertStringToList (string) :\n",
        "    list = []\n",
        "    list[:0] = string\n",
        "    return list"
      ]
    },
    {
      "cell_type": "code",
      "execution_count": 15,
      "metadata": {
        "id": "BPjuuKfXzf5F",
        "colab": {
          "base_uri": "https://localhost:8080/"
        },
        "outputId": "965311eb-969e-499d-e1d8-1074ad37926a"
      },
      "outputs": [
        {
          "output_type": "stream",
          "name": "stdout",
          "text": [
            "True\n",
            "False\n"
          ]
        }
      ],
      "source": [
        "def is_valid_zip(zip_code):\n",
        "    \"\"\"Returns whether the input string is a valid (5 digit) zip code\n",
        "    \"\"\"\n",
        "    ### START CODE HERE ###\n",
        "    zipCode = convertStringToList(zip_code)\n",
        "    if len(zipCode) == 5 :\n",
        "        return True\n",
        "    else :\n",
        "        return False\n",
        "    ### END CODE HERE ###\n",
        "    pass\n",
        "zipCode1 = [1, 2, 3, 4 ,5]\n",
        "zipCode2 = [1, 2, 3, 4]\n",
        "print(is_valid_zip(zipCode1))\n",
        "print(is_valid_zip(zipCode2))"
      ]
    },
    {
      "cell_type": "markdown",
      "metadata": {
        "id": "CAB_4WFczf5F"
      },
      "source": [
        "# 13.\n",
        ">Write a function my_max(x,y) that returns the maximum of x and y.\n",
        "\n",
        ">Do not use the max function, but use if instead in following two ways:\n",
        "\n",
        ">> (a) Use both if and else.\n",
        "\n",
        ">> (b) Use if but not else (nor elif)."
      ]
    },
    {
      "cell_type": "code",
      "execution_count": 16,
      "metadata": {
        "id": "EdxovDduzf5F",
        "colab": {
          "base_uri": "https://localhost:8080/"
        },
        "outputId": "d3e155b2-006f-4e37-86fe-f1b532342953"
      },
      "outputs": [
        {
          "output_type": "stream",
          "name": "stdout",
          "text": [
            "18\n",
            "16\n"
          ]
        }
      ],
      "source": [
        "def my_max_a(x, y):\n",
        "    ### START CODE HERE ###\n",
        "    if x > y :\n",
        "        return x\n",
        "    else :\n",
        "        return y;\n",
        "    ### END CODE HERE ###\n",
        "    pass\n",
        "print(my_max_a(10,18))\n",
        "print(my_max_a(16,13))"
      ]
    },
    {
      "cell_type": "code",
      "execution_count": 17,
      "metadata": {
        "id": "QbC8rsevzf5F",
        "colab": {
          "base_uri": "https://localhost:8080/"
        },
        "outputId": "163be691-d714-4fd9-cd11-1cf5c0321ac7"
      },
      "outputs": [
        {
          "output_type": "stream",
          "name": "stdout",
          "text": [
            "18\n",
            "16\n"
          ]
        }
      ],
      "source": [
        "def my_max_b(x, y):\n",
        "    ### START CODE HERE ###\n",
        "    if x > y :\n",
        "        return x\n",
        "    return y\n",
        "    ### END CODE HERE ###\n",
        "    pass\n",
        "print(my_max_a(10,18))\n",
        "print(my_max_a(16,13))"
      ]
    },
    {
      "cell_type": "markdown",
      "metadata": {
        "id": "SPGRkQKczf5F"
      },
      "source": [
        "# 14.  \n",
        "\n",
        "> Let i,j = 1,...,n\n",
        "\n",
        ">>(a) Generate a list with elements [i,j].\n",
        "\n",
        ">>(b) Generate a list with elements [i,j] with i < j\n",
        "\n",
        ">>(c) Generate a list with elements i + j with both i and j prime and i > j\n",
        "\n",
        "Use List comprehensions"
      ]
    },
    {
      "cell_type": "code",
      "execution_count": 18,
      "metadata": {
        "id": "6kEF2l-azf5F",
        "colab": {
          "base_uri": "https://localhost:8080/"
        },
        "outputId": "64a6b3cc-71e5-4cb5-c372-38fab06f21c9"
      },
      "outputs": [
        {
          "output_type": "stream",
          "name": "stdout",
          "text": [
            "[[1, 1], [1, 2], [1, 3], [1, 4], [1, 5], [2, 1], [2, 2], [2, 3], [2, 4], [2, 5], [3, 1], [3, 2], [3, 3], [3, 4], [3, 5], [4, 1], [4, 2], [4, 3], [4, 4], [4, 5], [5, 1], [5, 2], [5, 3], [5, 4], [5, 5]] \n",
            "\n",
            "[[1, 2], [1, 3], [1, 4], [1, 5], [2, 3], [2, 4], [2, 5], [3, 4], [3, 5], [4, 5]] \n",
            "\n",
            "[3, 4, 5, 6, 5, 6, 7, 7, 8, 9]\n"
          ]
        }
      ],
      "source": [
        "# a)\n",
        "### START CODE HERE ###\n",
        "myList_a = []\n",
        "n = 5\n",
        "for i in range(n) :\n",
        "    for j in range(n) :\n",
        "        myList_a.append([i+1, j+1])\n",
        "print(myList_a, '\\n')\n",
        "### END CODE HERE ###\n",
        "\n",
        "\n",
        "# b)\n",
        "### START CODE HERE ###\n",
        "myList_b = []\n",
        "for i in range(n) :\n",
        "    for j in range(n) :\n",
        "        if i < j :\n",
        "            myList_b.append([i+1, j+1])\n",
        "print(myList_b, '\\n')\n",
        "### END CODE HERE ###\n",
        "\n",
        "\n",
        "# c)\n",
        "### START CODE HERE ###\n",
        "myList_c = []\n",
        "for i in range(n) :\n",
        "    for j in range(n) :\n",
        "        if i < j :\n",
        "            myList_c.append(i+j+2)\n",
        "print(myList_c)\n",
        "### END CODE HERE ###"
      ]
    },
    {
      "cell_type": "markdown",
      "metadata": {
        "id": "1Nt-b71ozf5F"
      },
      "source": [
        "# 15.\n",
        "\n",
        ">Complete the body of the function below according to its docstring."
      ]
    },
    {
      "cell_type": "code",
      "execution_count": 19,
      "metadata": {
        "id": "h7dJzbXgzf5F"
      },
      "outputs": [],
      "source": [
        "def my_func():\n",
        "    \"\"\"Write a function which will return a list contains all such numbers which are divisible by 7 but are not a multiple\n",
        "    of 5, between 2000 and 3200 (both included).\n",
        "    \"\"\"\n",
        "    ### START CODE HERE ###\n",
        "    myListMultiple = list(range(2000, 3200))\n",
        "    for x in myListMultiple :\n",
        "        if x % 5 == 0 or x % 7 != 0 :\n",
        "            myListMultiple.remove(x)\n",
        "    return myListMultiple\n",
        "    ### END CODE HERE ###\n",
        "    pass"
      ]
    },
    {
      "cell_type": "markdown",
      "metadata": {
        "id": "4hCkNduIzf5F"
      },
      "source": [
        "# 16.\n",
        "\n",
        ">Write a program that accepts a sentence and calculate the number of letters and digits.\n",
        "Suppose the following input is supplied to the program:\n",
        "\n",
        "        hello world! 123\n",
        ">Then, the output should be:\n",
        "\n",
        ">>LETTERS 10\n",
        "\n",
        ">>DIGITS 3"
      ]
    },
    {
      "cell_type": "code",
      "execution_count": 20,
      "metadata": {
        "id": "zCF3Jcxrzf5G",
        "colab": {
          "base_uri": "https://localhost:8080/"
        },
        "outputId": "0bdee65f-caa4-4c08-ecbf-2098127a8e0c"
      },
      "outputs": [
        {
          "output_type": "stream",
          "name": "stdout",
          "text": [
            "10 3\n"
          ]
        }
      ],
      "source": [
        "### START CODE HERE ###\n",
        "\n",
        "#string = input(\"Enter a sentence: \")\n",
        "string = 'hello world! 123'\n",
        "string = string.strip()\n",
        "digits = 0\n",
        "letter = 0\n",
        "for i in string :\n",
        "    if i.isdigit() :\n",
        "        digits += 1\n",
        "    elif i.isalnum() :\n",
        "        letter += 1\n",
        "print(letter, digits)\n",
        "### END CODE HERE ###"
      ]
    },
    {
      "cell_type": "markdown",
      "metadata": {
        "id": "SrFe49A3zf5G"
      },
      "source": [
        "# 17.\n",
        "Write a function to sort a list of tuples (name, age, height) by ascending order\n",
        "where name is string, age and height are numbers. The sort\n",
        "criteria is:\n",
        "\n",
        "* 1: Sort based on name;\n",
        "* 2: Then sort based on age;\n",
        "* 3: Then sort by score.\n",
        "\n",
        "The priority is that name > age > score.\n",
        "If the following list is given as input to the function:\n",
        ">[('Taha',19,80), ('Farhad',20,90), ('Farrokh',17,91), ('Farrokh',17,93), ('Fatemeh',21,85)]\n",
        "\n",
        "Then, the output of the program should be:\n",
        ">[('Farhad', '20', '90'), ('Farrokh', '17', '91'), ('Farrokh', '17', '93'), ('Fatemeh', '21', '85'), ('Taha', '19', '80')]"
      ]
    },
    {
      "cell_type": "code",
      "execution_count": 21,
      "metadata": {
        "id": "ovUPqq9Tzf5G",
        "colab": {
          "base_uri": "https://localhost:8080/"
        },
        "outputId": "0c8729d0-a814-4fae-a27d-0bc05e54ad6e"
      },
      "outputs": [
        {
          "output_type": "execute_result",
          "data": {
            "text/plain": [
              "[('Farhad', 20, 90),\n",
              " ('Farrokh', 17, 91),\n",
              " ('Farrokh', 17, 93),\n",
              " ('Fatemeh', 21, 85),\n",
              " ('Taha', 19, 80)]"
            ]
          },
          "metadata": {},
          "execution_count": 21
        }
      ],
      "source": [
        "def sortTuple(inputList):\n",
        "    ### START CODE HERE ###\n",
        "    inputList.sort()\n",
        "    return inputList\n",
        "    ### END CODE HERE ###\n",
        "    pass\n",
        "sortTuple([('Taha',19,80), ('Farhad',20,90), ('Farrokh',17,91), ('Farrokh',17,93), ('Fatemeh',21,85)])"
      ]
    }
  ],
  "metadata": {
    "colab": {
      "provenance": [],
      "include_colab_link": true
    },
    "kernelspec": {
      "display_name": "Python 3",
      "language": "python",
      "name": "python3"
    },
    "language_info": {
      "codemirror_mode": {
        "name": "ipython",
        "version": 3
      },
      "file_extension": ".py",
      "mimetype": "text/x-python",
      "name": "python",
      "nbconvert_exporter": "python",
      "pygments_lexer": "ipython3",
      "version": "3.11.1"
    },
    "vscode": {
      "interpreter": {
        "hash": "e956c49ae0caa224b5fdd754cbc353d7e61c6c61f7329ee680c7f7b4f1b71a8e"
      }
    }
  },
  "nbformat": 4,
  "nbformat_minor": 0
}