{
  "cells": [
    {
      "cell_type": "markdown",
      "metadata": {
        "id": "view-in-github",
        "colab_type": "text"
      },
      "source": [
        "<a href=\"https://colab.research.google.com/github/AliAramideh/Intro_to_python/blob/main/python_packages.ipynb\" target=\"_parent\"><img src=\"https://colab.research.google.com/assets/colab-badge.svg\" alt=\"Open In Colab\"/></a>"
      ]
    },
    {
      "cell_type": "markdown",
      "source": [
        "<center>\n",
        "\n",
        "---\n",
        "\n",
        "In The Name Of God\n",
        "<center>"
      ],
      "metadata": {
        "id": "wou_tu9lMcsA"
      }
    },
    {
      "cell_type": "markdown",
      "source": [
        "# Author: **Ali Aramideh**\n",
        "#### email: **ali.s.aramideh@gmail.com**"
      ],
      "metadata": {
        "id": "Wh0LJMmJMe3x"
      }
    },
    {
      "cell_type": "markdown",
      "metadata": {
        "id": "c7wdMyNNzf49"
      },
      "source": [
        "<h1 align=\"center\">An Introduction to Python\n",
        "\n",
        "Welcome to python. This exercise gives you a brief introduction to Python."
      ]
    },
    {
      "cell_type": "markdown",
      "source": [
        "In this exercise we get to know `numpy`, `pandas` and `matplotlib` packages. If you want to do it yourself, you only need to write code between the `### START CODE HERE ###` and `### END CODE HERE ###` comments( you can download and complete `exercise2.ipynb` file from <a href=\"https://github.com/AliAramideh/Intro_to_python\">my GitHub</a>.\n",
        "\n",
        "We will be using iPython notebooks in this exercises. After writing your code, you can run the cell by either pressing \"SHIFT\"+\"ENTER\" or by clicking on \"Run Cell\" (denoted by a play symbol) in the upper bar of the notebook."
      ],
      "metadata": {
        "id": "JyKyS48PRFc8"
      }
    },
    {
      "cell_type": "markdown",
      "metadata": {
        "id": "ZmfUgXgE51uo"
      },
      "source": [
        "## Import\n",
        ">Put all of your imports for this file in the below cell."
      ]
    },
    {
      "cell_type": "code",
      "execution_count": 20,
      "metadata": {
        "id": "PKyVIvPF51uo"
      },
      "outputs": [],
      "source": [
        "### START CODE HERE ###\n",
        "import numpy as np\n",
        "import pandas as pd\n",
        "import matplotlib.pyplot as plt\n",
        "from numpy.random import randint\n",
        "### END CODE HERE ###"
      ]
    },
    {
      "cell_type": "markdown",
      "metadata": {
        "id": "TK-ZIy9Z51up"
      },
      "source": [
        "# Question 1"
      ]
    },
    {
      "cell_type": "markdown",
      "metadata": {
        "id": "xATpgtcD51up"
      },
      "source": [
        "## Array creation\n",
        ">Create the followings to numpy array:\n",
        "* A: a 3\\*3 array like this:\n",
        "$$\n",
        "A = \\left(\\begin{array}{cc}\n",
        "10 & 20 & 30\\\\\n",
        "5 & 10 & 15\\\\\n",
        "1 & 5 & 8\n",
        "\\end{array}\\right)\n",
        "$$\n",
        "* B: a 3\\*3\\*4 that filled with the numbers start from 15 and have steps of 5 to the end. The array should be filled first along the first dimension then the second dimension and at last the third dimension. like this:\n",
        "$$\n",
        "B[:, :, 0] = \\left(\\begin{array}{cc}\n",
        "15 & 30 & 45\\\\\n",
        "20 & 35 & 50\\\\\n",
        "25 & 40 & 55\n",
        "\\end{array}\\right)\n",
        "$$"
      ]
    },
    {
      "cell_type": "code",
      "execution_count": 21,
      "metadata": {
        "id": "TjIs628Y51up",
        "colab": {
          "base_uri": "https://localhost:8080/"
        },
        "outputId": "aece6af5-3830-49fd-f6f9-70d3c6db477b"
      },
      "outputs": [
        {
          "output_type": "stream",
          "name": "stdout",
          "text": [
            "[[10 20 30]\n",
            " [ 5 10 15]\n",
            " [ 1  5  8]] \n",
            "\n",
            "[[[ 15.  30.  45.]\n",
            "  [ 20.  35.  50.]\n",
            "  [ 25.  40.  55.]]\n",
            "\n",
            " [[ 60.  75.  90.]\n",
            "  [ 65.  80.  95.]\n",
            "  [ 70.  85. 100.]]\n",
            "\n",
            " [[105. 120. 135.]\n",
            "  [110. 125. 140.]\n",
            "  [115. 130. 145.]]\n",
            "\n",
            " [[150. 165. 180.]\n",
            "  [155. 170. 185.]\n",
            "  [160. 175. 190.]]]\n"
          ]
        }
      ],
      "source": [
        "### START CODE HERE ###\n",
        "A = np.array([[10, 20, 30], [5, 10, 15], [1, 5, 8]])\n",
        "print(A, '\\n')\n",
        "B = np.zeros((4, 3, 3))\n",
        "i = 15    # 60, 65, 70, 75, 80, 85, 90, 95, 100\n",
        "for i in range(4) :\n",
        "    B[i, :, :] = np.arange(15 + (45 * i) , 56 + (45 * i), 5).reshape(3, 3).T\n",
        "print(B)\n",
        "### END CODE HERE ###"
      ]
    },
    {
      "cell_type": "markdown",
      "metadata": {
        "id": "FnkUQTNY51up"
      },
      "source": [
        "## Replacement\n",
        ">Replace the last slice of array B (B[:, :, 3]) with values of A. Then print the result."
      ]
    },
    {
      "cell_type": "code",
      "execution_count": 22,
      "metadata": {
        "id": "P8VC57_o51uq",
        "colab": {
          "base_uri": "https://localhost:8080/"
        },
        "outputId": "59f110d1-a7f1-4649-b269-1818d37ac97a"
      },
      "outputs": [
        {
          "output_type": "stream",
          "name": "stdout",
          "text": [
            "[[[ 15.  30.  45.]\n",
            "  [ 20.  35.  50.]\n",
            "  [ 25.  40.  55.]]\n",
            "\n",
            " [[ 60.  75.  90.]\n",
            "  [ 65.  80.  95.]\n",
            "  [ 70.  85. 100.]]\n",
            "\n",
            " [[105. 120. 135.]\n",
            "  [110. 125. 140.]\n",
            "  [115. 130. 145.]]\n",
            "\n",
            " [[ 10.  20.  30.]\n",
            "  [  5.  10.  15.]\n",
            "  [  1.   5.   8.]]] \n",
            "\n",
            "[[10 20 30]\n",
            " [ 5 10 15]\n",
            " [ 1  5  8]]\n"
          ]
        }
      ],
      "source": [
        "### START CODE HERE ###\n",
        "B[3, :, :] = A\n",
        "print(B, '\\n')\n",
        "print(A)\n",
        "### END CODE HERE ###"
      ]
    },
    {
      "cell_type": "markdown",
      "metadata": {
        "id": "nZs4P5AZ51uq"
      },
      "source": [
        "## Axis Swap\n",
        ">Swap the first(B[:, :, 0]) and last(B[:, :, 3]) slice of the array B **only with one line of code**. Then print the result."
      ]
    },
    {
      "cell_type": "code",
      "execution_count": 23,
      "metadata": {
        "id": "WmS33bBl51uq",
        "colab": {
          "base_uri": "https://localhost:8080/"
        },
        "outputId": "1d671bb1-dc1b-4e01-ef26-4677048223ee"
      },
      "outputs": [
        {
          "output_type": "stream",
          "name": "stdout",
          "text": [
            "[[[ 10.  20.  30.]\n",
            "  [  5.  10.  15.]\n",
            "  [  1.   5.   8.]]\n",
            "\n",
            " [[ 60.  75.  90.]\n",
            "  [ 65.  80.  95.]\n",
            "  [ 70.  85. 100.]]\n",
            "\n",
            " [[105. 120. 135.]\n",
            "  [110. 125. 140.]\n",
            "  [115. 130. 145.]]\n",
            "\n",
            " [[ 15.  30.  45.]\n",
            "  [ 20.  35.  50.]\n",
            "  [ 25.  40.  55.]]]\n"
          ]
        }
      ],
      "source": [
        "### START CODE HERE ###\n",
        "sample = B[0,:,:].copy()\n",
        "B[0,:,:] = B[3,:,:].copy()\n",
        "B[3,:,:] = sample\n",
        "print(B)\n",
        "### END CODE HERE ###"
      ]
    },
    {
      "cell_type": "markdown",
      "metadata": {
        "id": "220LTscL51uq"
      },
      "source": [
        "## Transposing\n",
        ">Transpose the array B elements in each slice. Then print the result."
      ]
    },
    {
      "cell_type": "code",
      "execution_count": 24,
      "metadata": {
        "id": "aNMAlnaC51uq",
        "colab": {
          "base_uri": "https://localhost:8080/"
        },
        "outputId": "89470590-7c40-456d-efe0-66da47d80f5b"
      },
      "outputs": [
        {
          "output_type": "stream",
          "name": "stdout",
          "text": [
            "[[[ 10.   5.   1.]\n",
            "  [ 20.  10.   5.]\n",
            "  [ 30.  15.   8.]]\n",
            "\n",
            " [[ 60.  65.  70.]\n",
            "  [ 75.  80.  85.]\n",
            "  [ 90.  95. 100.]]\n",
            "\n",
            " [[105. 110. 115.]\n",
            "  [120. 125. 130.]\n",
            "  [135. 140. 145.]]\n",
            "\n",
            " [[ 15.  20.  25.]\n",
            "  [ 30.  35.  40.]\n",
            "  [ 45.  50.  55.]]]\n"
          ]
        }
      ],
      "source": [
        "### START CODE HERE ###\n",
        "for i in range(4) :\n",
        "    B[i, :, :] = B[i, :, :].T\n",
        "print(B)\n",
        "### END CODE HERE ###"
      ]
    },
    {
      "cell_type": "markdown",
      "metadata": {
        "id": "xYFuQ6_H51uq"
      },
      "source": [
        "## Matrix Multiplication\n",
        ">Calculate the matrix multiplication of all slices of the array B.\n",
        "(B[:, :, 0] \\* B[:, :, 1] \\* B[:, :, 2] \\* B[:, :, 3]). Then print the result.\n",
        "\n",
        ">**Note**: the result should be a 3\\*3 array."
      ]
    },
    {
      "cell_type": "code",
      "execution_count": 25,
      "metadata": {
        "id": "HfQRENtP51uq",
        "colab": {
          "base_uri": "https://localhost:8080/"
        },
        "outputId": "54d51189-5398-48af-d9db-4821dc782cc8"
      },
      "outputs": [
        {
          "output_type": "stream",
          "name": "stdout",
          "text": [
            "[[2.6235000e+08 3.0550275e+08 3.4865550e+08]\n",
            " [2.6235000e+08 3.0550275e+08 3.4865550e+08]\n",
            " [2.6235000e+08 3.0550275e+08 3.4865550e+08]]\n"
          ]
        }
      ],
      "source": [
        "### START CODE HERE ###\n",
        "a = np.ones((3, 3))\n",
        "for i in range(4) :\n",
        "    a = np.dot(a, B[i, :, :])\n",
        "print(a)\n",
        "### END CODE HERE ###"
      ]
    },
    {
      "cell_type": "markdown",
      "metadata": {
        "id": "T-aKILXl51uq"
      },
      "source": [
        "## Determinant\n",
        ">Calculate the determinant of the array A and print it."
      ]
    },
    {
      "cell_type": "code",
      "execution_count": 26,
      "metadata": {
        "id": "IuIyFxIb51ur",
        "colab": {
          "base_uri": "https://localhost:8080/"
        },
        "outputId": "d1cabbec-4007-4614-aa0c-26cf540e67c2"
      },
      "outputs": [
        {
          "output_type": "stream",
          "name": "stdout",
          "text": [
            "0.0\n"
          ]
        }
      ],
      "source": [
        "### START CODE HERE ###\n",
        "determinantOfA = np.linalg.det(A)\n",
        "print(determinantOfA)\n",
        "### END CODE HERE ###"
      ]
    },
    {
      "cell_type": "markdown",
      "metadata": {
        "id": "dUxqZ--i51ur"
      },
      "source": [
        "# Question 2"
      ]
    },
    {
      "cell_type": "code",
      "execution_count": 27,
      "metadata": {
        "colab": {
          "base_uri": "https://localhost:8080/"
        },
        "id": "02K2xZ7mOagp",
        "outputId": "c1c877e6-4fd3-4a43-d389-e5e1a29095e5"
      },
      "outputs": [
        {
          "output_type": "stream",
          "name": "stdout",
          "text": [
            "[10 20 30]\n",
            "0    10\n",
            "1    20\n",
            "2    30\n",
            "dtype: int64\n",
            "a    10\n",
            "b    20\n",
            "c    30\n",
            "dtype: int64\n",
            "{'a': 10, 'b': 20, 'c': 30}\n",
            "a    10\n",
            "b    20\n",
            "c    30\n",
            "dtype: int64\n"
          ]
        }
      ],
      "source": [
        "arr = np.array([10, 20, 30])\n",
        "print(arr)\n",
        "print(pd.Series(arr))\n",
        "lable = ['a', 'b', 'c']\n",
        "print(pd.Series(arr,lable))\n",
        "myDict = {'a': 10,\n",
        "          'b': 20,\n",
        "          'c': 30}\n",
        "print(myDict)\n",
        "print(pd.Series(myDict))"
      ]
    },
    {
      "cell_type": "markdown",
      "metadata": {
        "id": "tVorf1Zj51ur"
      },
      "source": [
        "## Loading dataset\n",
        ">Load the IMDB-Movie-Data.csv file into a pandas dataframe and show its first 5 rows. Each row of this dataframe corresponds to one film."
      ]
    },
    {
      "cell_type": "code",
      "execution_count": 28,
      "metadata": {
        "id": "dIsa36yi51ur",
        "colab": {
          "base_uri": "https://localhost:8080/",
          "height": 354
        },
        "outputId": "256db76f-3b25-474c-9871-5f36c6084467"
      },
      "outputs": [
        {
          "output_type": "execute_result",
          "data": {
            "text/plain": [
              "   Rank                    Title                     Genre  \\\n",
              "0     1  Guardians of the Galaxy   Action,Adventure,Sci-Fi   \n",
              "1     2               Prometheus  Adventure,Mystery,Sci-Fi   \n",
              "2     3                    Split           Horror,Thriller   \n",
              "3     4                     Sing   Animation,Comedy,Family   \n",
              "4     5            Suicide Squad  Action,Adventure,Fantasy   \n",
              "\n",
              "                                         Description              Director  \\\n",
              "0  A group of intergalactic criminals are forced ...            James Gunn   \n",
              "1  Following clues to the origin of mankind, a te...          Ridley Scott   \n",
              "2  Three girls are kidnapped by a man with a diag...    M. Night Shyamalan   \n",
              "3  In a city of humanoid animals, a hustling thea...  Christophe Lourdelet   \n",
              "4  A secret government agency recruits some of th...            David Ayer   \n",
              "\n",
              "                                              Actors  Year  Runtime (Minutes)  \\\n",
              "0  Chris Pratt, Vin Diesel, Bradley Cooper, Zoe S...  2014                121   \n",
              "1  Noomi Rapace, Logan Marshall-Green, Michael Fa...  2012                124   \n",
              "2  James McAvoy, Anya Taylor-Joy, Haley Lu Richar...  2016                117   \n",
              "3  Matthew McConaughey,Reese Witherspoon, Seth Ma...  2016                108   \n",
              "4  Will Smith, Jared Leto, Margot Robbie, Viola D...  2016                123   \n",
              "\n",
              "   Rating   Votes  Revenue (Millions)  Metascore  \n",
              "0     8.1  757074              333.13       76.0  \n",
              "1     7.0  485820              126.46       65.0  \n",
              "2     7.3  157606              138.12       62.0  \n",
              "3     7.2   60545              270.32       59.0  \n",
              "4     6.2  393727              325.02       40.0  "
            ],
            "text/html": [
              "\n",
              "\n",
              "  <div id=\"df-4a8d91a6-b47c-4b0b-a73b-4b99710e34ba\">\n",
              "    <div class=\"colab-df-container\">\n",
              "      <div>\n",
              "<style scoped>\n",
              "    .dataframe tbody tr th:only-of-type {\n",
              "        vertical-align: middle;\n",
              "    }\n",
              "\n",
              "    .dataframe tbody tr th {\n",
              "        vertical-align: top;\n",
              "    }\n",
              "\n",
              "    .dataframe thead th {\n",
              "        text-align: right;\n",
              "    }\n",
              "</style>\n",
              "<table border=\"1\" class=\"dataframe\">\n",
              "  <thead>\n",
              "    <tr style=\"text-align: right;\">\n",
              "      <th></th>\n",
              "      <th>Rank</th>\n",
              "      <th>Title</th>\n",
              "      <th>Genre</th>\n",
              "      <th>Description</th>\n",
              "      <th>Director</th>\n",
              "      <th>Actors</th>\n",
              "      <th>Year</th>\n",
              "      <th>Runtime (Minutes)</th>\n",
              "      <th>Rating</th>\n",
              "      <th>Votes</th>\n",
              "      <th>Revenue (Millions)</th>\n",
              "      <th>Metascore</th>\n",
              "    </tr>\n",
              "  </thead>\n",
              "  <tbody>\n",
              "    <tr>\n",
              "      <th>0</th>\n",
              "      <td>1</td>\n",
              "      <td>Guardians of the Galaxy</td>\n",
              "      <td>Action,Adventure,Sci-Fi</td>\n",
              "      <td>A group of intergalactic criminals are forced ...</td>\n",
              "      <td>James Gunn</td>\n",
              "      <td>Chris Pratt, Vin Diesel, Bradley Cooper, Zoe S...</td>\n",
              "      <td>2014</td>\n",
              "      <td>121</td>\n",
              "      <td>8.1</td>\n",
              "      <td>757074</td>\n",
              "      <td>333.13</td>\n",
              "      <td>76.0</td>\n",
              "    </tr>\n",
              "    <tr>\n",
              "      <th>1</th>\n",
              "      <td>2</td>\n",
              "      <td>Prometheus</td>\n",
              "      <td>Adventure,Mystery,Sci-Fi</td>\n",
              "      <td>Following clues to the origin of mankind, a te...</td>\n",
              "      <td>Ridley Scott</td>\n",
              "      <td>Noomi Rapace, Logan Marshall-Green, Michael Fa...</td>\n",
              "      <td>2012</td>\n",
              "      <td>124</td>\n",
              "      <td>7.0</td>\n",
              "      <td>485820</td>\n",
              "      <td>126.46</td>\n",
              "      <td>65.0</td>\n",
              "    </tr>\n",
              "    <tr>\n",
              "      <th>2</th>\n",
              "      <td>3</td>\n",
              "      <td>Split</td>\n",
              "      <td>Horror,Thriller</td>\n",
              "      <td>Three girls are kidnapped by a man with a diag...</td>\n",
              "      <td>M. Night Shyamalan</td>\n",
              "      <td>James McAvoy, Anya Taylor-Joy, Haley Lu Richar...</td>\n",
              "      <td>2016</td>\n",
              "      <td>117</td>\n",
              "      <td>7.3</td>\n",
              "      <td>157606</td>\n",
              "      <td>138.12</td>\n",
              "      <td>62.0</td>\n",
              "    </tr>\n",
              "    <tr>\n",
              "      <th>3</th>\n",
              "      <td>4</td>\n",
              "      <td>Sing</td>\n",
              "      <td>Animation,Comedy,Family</td>\n",
              "      <td>In a city of humanoid animals, a hustling thea...</td>\n",
              "      <td>Christophe Lourdelet</td>\n",
              "      <td>Matthew McConaughey,Reese Witherspoon, Seth Ma...</td>\n",
              "      <td>2016</td>\n",
              "      <td>108</td>\n",
              "      <td>7.2</td>\n",
              "      <td>60545</td>\n",
              "      <td>270.32</td>\n",
              "      <td>59.0</td>\n",
              "    </tr>\n",
              "    <tr>\n",
              "      <th>4</th>\n",
              "      <td>5</td>\n",
              "      <td>Suicide Squad</td>\n",
              "      <td>Action,Adventure,Fantasy</td>\n",
              "      <td>A secret government agency recruits some of th...</td>\n",
              "      <td>David Ayer</td>\n",
              "      <td>Will Smith, Jared Leto, Margot Robbie, Viola D...</td>\n",
              "      <td>2016</td>\n",
              "      <td>123</td>\n",
              "      <td>6.2</td>\n",
              "      <td>393727</td>\n",
              "      <td>325.02</td>\n",
              "      <td>40.0</td>\n",
              "    </tr>\n",
              "  </tbody>\n",
              "</table>\n",
              "</div>\n",
              "      <button class=\"colab-df-convert\" onclick=\"convertToInteractive('df-4a8d91a6-b47c-4b0b-a73b-4b99710e34ba')\"\n",
              "              title=\"Convert this dataframe to an interactive table.\"\n",
              "              style=\"display:none;\">\n",
              "\n",
              "  <svg xmlns=\"http://www.w3.org/2000/svg\" height=\"24px\"viewBox=\"0 0 24 24\"\n",
              "       width=\"24px\">\n",
              "    <path d=\"M0 0h24v24H0V0z\" fill=\"none\"/>\n",
              "    <path d=\"M18.56 5.44l.94 2.06.94-2.06 2.06-.94-2.06-.94-.94-2.06-.94 2.06-2.06.94zm-11 1L8.5 8.5l.94-2.06 2.06-.94-2.06-.94L8.5 2.5l-.94 2.06-2.06.94zm10 10l.94 2.06.94-2.06 2.06-.94-2.06-.94-.94-2.06-.94 2.06-2.06.94z\"/><path d=\"M17.41 7.96l-1.37-1.37c-.4-.4-.92-.59-1.43-.59-.52 0-1.04.2-1.43.59L10.3 9.45l-7.72 7.72c-.78.78-.78 2.05 0 2.83L4 21.41c.39.39.9.59 1.41.59.51 0 1.02-.2 1.41-.59l7.78-7.78 2.81-2.81c.8-.78.8-2.07 0-2.86zM5.41 20L4 18.59l7.72-7.72 1.47 1.35L5.41 20z\"/>\n",
              "  </svg>\n",
              "      </button>\n",
              "\n",
              "\n",
              "\n",
              "    <div id=\"df-474de3ac-7ae5-4b8e-9591-7611ca223869\">\n",
              "      <button class=\"colab-df-quickchart\" onclick=\"quickchart('df-474de3ac-7ae5-4b8e-9591-7611ca223869')\"\n",
              "              title=\"Suggest charts.\"\n",
              "              style=\"display:none;\">\n",
              "\n",
              "<svg xmlns=\"http://www.w3.org/2000/svg\" height=\"24px\"viewBox=\"0 0 24 24\"\n",
              "     width=\"24px\">\n",
              "    <g>\n",
              "        <path d=\"M19 3H5c-1.1 0-2 .9-2 2v14c0 1.1.9 2 2 2h14c1.1 0 2-.9 2-2V5c0-1.1-.9-2-2-2zM9 17H7v-7h2v7zm4 0h-2V7h2v10zm4 0h-2v-4h2v4z\"/>\n",
              "    </g>\n",
              "</svg>\n",
              "      </button>\n",
              "    </div>\n",
              "\n",
              "<style>\n",
              "  .colab-df-quickchart {\n",
              "    background-color: #E8F0FE;\n",
              "    border: none;\n",
              "    border-radius: 50%;\n",
              "    cursor: pointer;\n",
              "    display: none;\n",
              "    fill: #1967D2;\n",
              "    height: 32px;\n",
              "    padding: 0 0 0 0;\n",
              "    width: 32px;\n",
              "  }\n",
              "\n",
              "  .colab-df-quickchart:hover {\n",
              "    background-color: #E2EBFA;\n",
              "    box-shadow: 0px 1px 2px rgba(60, 64, 67, 0.3), 0px 1px 3px 1px rgba(60, 64, 67, 0.15);\n",
              "    fill: #174EA6;\n",
              "  }\n",
              "\n",
              "  [theme=dark] .colab-df-quickchart {\n",
              "    background-color: #3B4455;\n",
              "    fill: #D2E3FC;\n",
              "  }\n",
              "\n",
              "  [theme=dark] .colab-df-quickchart:hover {\n",
              "    background-color: #434B5C;\n",
              "    box-shadow: 0px 1px 3px 1px rgba(0, 0, 0, 0.15);\n",
              "    filter: drop-shadow(0px 1px 2px rgba(0, 0, 0, 0.3));\n",
              "    fill: #FFFFFF;\n",
              "  }\n",
              "</style>\n",
              "\n",
              "    <script>\n",
              "      async function quickchart(key) {\n",
              "        const containerElement = document.querySelector('#' + key);\n",
              "        const charts = await google.colab.kernel.invokeFunction(\n",
              "            'suggestCharts', [key], {});\n",
              "      }\n",
              "    </script>\n",
              "\n",
              "      <script>\n",
              "\n",
              "function displayQuickchartButton(domScope) {\n",
              "  let quickchartButtonEl =\n",
              "    domScope.querySelector('#df-474de3ac-7ae5-4b8e-9591-7611ca223869 button.colab-df-quickchart');\n",
              "  quickchartButtonEl.style.display =\n",
              "    google.colab.kernel.accessAllowed ? 'block' : 'none';\n",
              "}\n",
              "\n",
              "        displayQuickchartButton(document);\n",
              "      </script>\n",
              "      <style>\n",
              "    .colab-df-container {\n",
              "      display:flex;\n",
              "      flex-wrap:wrap;\n",
              "      gap: 12px;\n",
              "    }\n",
              "\n",
              "    .colab-df-convert {\n",
              "      background-color: #E8F0FE;\n",
              "      border: none;\n",
              "      border-radius: 50%;\n",
              "      cursor: pointer;\n",
              "      display: none;\n",
              "      fill: #1967D2;\n",
              "      height: 32px;\n",
              "      padding: 0 0 0 0;\n",
              "      width: 32px;\n",
              "    }\n",
              "\n",
              "    .colab-df-convert:hover {\n",
              "      background-color: #E2EBFA;\n",
              "      box-shadow: 0px 1px 2px rgba(60, 64, 67, 0.3), 0px 1px 3px 1px rgba(60, 64, 67, 0.15);\n",
              "      fill: #174EA6;\n",
              "    }\n",
              "\n",
              "    [theme=dark] .colab-df-convert {\n",
              "      background-color: #3B4455;\n",
              "      fill: #D2E3FC;\n",
              "    }\n",
              "\n",
              "    [theme=dark] .colab-df-convert:hover {\n",
              "      background-color: #434B5C;\n",
              "      box-shadow: 0px 1px 3px 1px rgba(0, 0, 0, 0.15);\n",
              "      filter: drop-shadow(0px 1px 2px rgba(0, 0, 0, 0.3));\n",
              "      fill: #FFFFFF;\n",
              "    }\n",
              "  </style>\n",
              "\n",
              "      <script>\n",
              "        const buttonEl =\n",
              "          document.querySelector('#df-4a8d91a6-b47c-4b0b-a73b-4b99710e34ba button.colab-df-convert');\n",
              "        buttonEl.style.display =\n",
              "          google.colab.kernel.accessAllowed ? 'block' : 'none';\n",
              "\n",
              "        async function convertToInteractive(key) {\n",
              "          const element = document.querySelector('#df-4a8d91a6-b47c-4b0b-a73b-4b99710e34ba');\n",
              "          const dataTable =\n",
              "            await google.colab.kernel.invokeFunction('convertToInteractive',\n",
              "                                                     [key], {});\n",
              "          if (!dataTable) return;\n",
              "\n",
              "          const docLinkHtml = 'Like what you see? Visit the ' +\n",
              "            '<a target=\"_blank\" href=https://colab.research.google.com/notebooks/data_table.ipynb>data table notebook</a>'\n",
              "            + ' to learn more about interactive tables.';\n",
              "          element.innerHTML = '';\n",
              "          dataTable['output_type'] = 'display_data';\n",
              "          await google.colab.output.renderOutput(dataTable, element);\n",
              "          const docLink = document.createElement('div');\n",
              "          docLink.innerHTML = docLinkHtml;\n",
              "          element.appendChild(docLink);\n",
              "        }\n",
              "      </script>\n",
              "    </div>\n",
              "  </div>\n"
            ]
          },
          "metadata": {},
          "execution_count": 28
        }
      ],
      "source": [
        "url = 'https://github.com/AliAramideh/Intro_to_python/raw/main/IMDB-Movie-Data.csv'\n",
        "### START CODE HERE ###\n",
        "df_csv = pd.read_csv(url)\n",
        "df_csv.head(5)\n",
        "### END CODE HERE ###"
      ]
    },
    {
      "cell_type": "markdown",
      "metadata": {
        "id": "pgDvllsV51ur"
      },
      "source": [
        "## Actors/Actresses Activity\n",
        ">For each Actors/Actresses caculate the number of movies in the dataframe, then sort the actors/actresses first by their number of movies in descending order and then by their name in ascending order."
      ]
    },
    {
      "cell_type": "code",
      "execution_count": 29,
      "metadata": {
        "id": "GfB9w9UO51ur",
        "colab": {
          "base_uri": "https://localhost:8080/"
        },
        "outputId": "be366ff5-0576-4dec-ce40-c34034c6a3aa"
      },
      "outputs": [
        {
          "output_type": "stream",
          "name": "stdout",
          "text": [
            "Jennifer Lawrence, Josh Hutcherson, Liam Hemsworth, Woody Harrelson    2\n",
            "Daniel Radcliffe, Emma Watson, Rupert Grint, Michael Gambon            2\n",
            "Shia LaBeouf, Megan Fox, Josh Duhamel, Tyrese Gibson                   2\n",
            "Gerard Butler, Aaron Eckhart, Morgan Freeman,Angela Bassett            2\n",
            "Chris Pratt, Vin Diesel, Bradley Cooper, Zoe Saldana                   1\n",
            "                                                                      ..\n",
            "Alexi Pappas, Chase Offerle, Rachel Dratch, Andy Buckley               1\n",
            "Shailene Woodley, Ansel Elgort, Nat Wolff, Laura Dern                  1\n",
            "Adam Sandler, Drew Barrymore, Wendi McLendon-Covey, Kevin Nealon       1\n",
            "Vin Diesel, Paul Walker, Michelle Rodriguez, Jordana Brewster          1\n",
            "Kevin Spacey, Jennifer Garner, Robbie Amell,Cheryl Hines               1\n",
            "Name: Actors, Length: 996, dtype: int64\n"
          ]
        }
      ],
      "source": [
        "### START CODE HERE ###\n",
        "# print(df_csv['Actors'].value_counts())\n",
        "df_csv_actors = df_csv['Actors'].value_counts()\n",
        "print(df_csv_actors)\n",
        "### END CODE HERE ###"
      ]
    },
    {
      "cell_type": "markdown",
      "metadata": {
        "id": "U8qu6f7d51ur"
      },
      "source": [
        "## Score Histogram\n",
        ">Draw the histogram of metascores and ratings."
      ]
    },
    {
      "cell_type": "code",
      "execution_count": 30,
      "metadata": {
        "id": "JUf-Jl6T51ur",
        "colab": {
          "base_uri": "https://localhost:8080/",
          "height": 843
        },
        "outputId": "bec0df65-935c-40f6-a518-ef919cf8eeca"
      },
      "outputs": [
        {
          "output_type": "display_data",
          "data": {
            "text/plain": [
              "<Figure size 640x480 with 1 Axes>"
            ],
            "image/png": "[encoded data removed]"
          },
          "metadata": {}
        },
        {
          "output_type": "display_data",
          "data": {
            "text/plain": [
              "<Figure size 640x480 with 1 Axes>"
            ],
            "image/png": "[encoded data removed]"
          },
          "metadata": {}
        }
      ],
      "source": [
        "### START CODE HERE ###\n",
        "plt.hist(df_csv['Metascore'], 50, color='red')\n",
        "plt.show()\n",
        "plt.hist(df_csv['Rating'], 80, color='blue')\n",
        "plt.show()\n",
        "### END CODE HERE ###"
      ]
    },
    {
      "cell_type": "markdown",
      "metadata": {
        "id": "_fD8olon51ur"
      },
      "source": [
        "## Correlations\n",
        ">Calculate the correlation between rating, votes and metascore of the movies.\n",
        "Is there any meaningful relation between these features?"
      ]
    },
    {
      "cell_type": "code",
      "execution_count": 36,
      "metadata": {
        "id": "4Llb2din51ur",
        "colab": {
          "base_uri": "https://localhost:8080/",
          "height": 143
        },
        "outputId": "5e87094b-116e-410e-c9d5-2827ec5883ab"
      },
      "outputs": [
        {
          "output_type": "execute_result",
          "data": {
            "text/plain": [
              "             Rating     Votes  Metascore\n",
              "Rating     1.000000  0.511537   0.631897\n",
              "Votes      0.511537  1.000000   0.325684\n",
              "Metascore  0.631897  0.325684   1.000000"
            ],
            "text/html": [
              "\n",
              "\n",
              "  <div id=\"df-8f631459-96f0-4e7d-a58b-834f9a77a012\">\n",
              "    <div class=\"colab-df-container\">\n",
              "      <div>\n",
              "<style scoped>\n",
              "    .dataframe tbody tr th:only-of-type {\n",
              "        vertical-align: middle;\n",
              "    }\n",
              "\n",
              "    .dataframe tbody tr th {\n",
              "        vertical-align: top;\n",
              "    }\n",
              "\n",
              "    .dataframe thead th {\n",
              "        text-align: right;\n",
              "    }\n",
              "</style>\n",
              "<table border=\"1\" class=\"dataframe\">\n",
              "  <thead>\n",
              "    <tr style=\"text-align: right;\">\n",
              "      <th></th>\n",
              "      <th>Rating</th>\n",
              "      <th>Votes</th>\n",
              "      <th>Metascore</th>\n",
              "    </tr>\n",
              "  </thead>\n",
              "  <tbody>\n",
              "    <tr>\n",
              "      <th>Rating</th>\n",
              "      <td>1.000000</td>\n",
              "      <td>0.511537</td>\n",
              "      <td>0.631897</td>\n",
              "    </tr>\n",
              "    <tr>\n",
              "      <th>Votes</th>\n",
              "      <td>0.511537</td>\n",
              "      <td>1.000000</td>\n",
              "      <td>0.325684</td>\n",
              "    </tr>\n",
              "    <tr>\n",
              "      <th>Metascore</th>\n",
              "      <td>0.631897</td>\n",
              "      <td>0.325684</td>\n",
              "      <td>1.000000</td>\n",
              "    </tr>\n",
              "  </tbody>\n",
              "</table>\n",
              "</div>\n",
              "      <button class=\"colab-df-convert\" onclick=\"convertToInteractive('df-8f631459-96f0-4e7d-a58b-834f9a77a012')\"\n",
              "              title=\"Convert this dataframe to an interactive table.\"\n",
              "              style=\"display:none;\">\n",
              "\n",
              "  <svg xmlns=\"http://www.w3.org/2000/svg\" height=\"24px\"viewBox=\"0 0 24 24\"\n",
              "       width=\"24px\">\n",
              "    <path d=\"M0 0h24v24H0V0z\" fill=\"none\"/>\n",
              "    <path d=\"M18.56 5.44l.94 2.06.94-2.06 2.06-.94-2.06-.94-.94-2.06-.94 2.06-2.06.94zm-11 1L8.5 8.5l.94-2.06 2.06-.94-2.06-.94L8.5 2.5l-.94 2.06-2.06.94zm10 10l.94 2.06.94-2.06 2.06-.94-2.06-.94-.94-2.06-.94 2.06-2.06.94z\"/><path d=\"M17.41 7.96l-1.37-1.37c-.4-.4-.92-.59-1.43-.59-.52 0-1.04.2-1.43.59L10.3 9.45l-7.72 7.72c-.78.78-.78 2.05 0 2.83L4 21.41c.39.39.9.59 1.41.59.51 0 1.02-.2 1.41-.59l7.78-7.78 2.81-2.81c.8-.78.8-2.07 0-2.86zM5.41 20L4 18.59l7.72-7.72 1.47 1.35L5.41 20z\"/>\n",
              "  </svg>\n",
              "      </button>\n",
              "\n",
              "\n",
              "\n",
              "    <div id=\"df-64cf4715-3100-404e-a4ed-76f4d001778c\">\n",
              "      <button class=\"colab-df-quickchart\" onclick=\"quickchart('df-64cf4715-3100-404e-a4ed-76f4d001778c')\"\n",
              "              title=\"Suggest charts.\"\n",
              "              style=\"display:none;\">\n",
              "\n",
              "<svg xmlns=\"http://www.w3.org/2000/svg\" height=\"24px\"viewBox=\"0 0 24 24\"\n",
              "     width=\"24px\">\n",
              "    <g>\n",
              "        <path d=\"M19 3H5c-1.1 0-2 .9-2 2v14c0 1.1.9 2 2 2h14c1.1 0 2-.9 2-2V5c0-1.1-.9-2-2-2zM9 17H7v-7h2v7zm4 0h-2V7h2v10zm4 0h-2v-4h2v4z\"/>\n",
              "    </g>\n",
              "</svg>\n",
              "      </button>\n",
              "    </div>\n",
              "\n",
              "<style>\n",
              "  .colab-df-quickchart {\n",
              "    background-color: #E8F0FE;\n",
              "    border: none;\n",
              "    border-radius: 50%;\n",
              "    cursor: pointer;\n",
              "    display: none;\n",
              "    fill: #1967D2;\n",
              "    height: 32px;\n",
              "    padding: 0 0 0 0;\n",
              "    width: 32px;\n",
              "  }\n",
              "\n",
              "  .colab-df-quickchart:hover {\n",
              "    background-color: #E2EBFA;\n",
              "    box-shadow: 0px 1px 2px rgba(60, 64, 67, 0.3), 0px 1px 3px 1px rgba(60, 64, 67, 0.15);\n",
              "    fill: #174EA6;\n",
              "  }\n",
              "\n",
              "  [theme=dark] .colab-df-quickchart {\n",
              "    background-color: #3B4455;\n",
              "    fill: #D2E3FC;\n",
              "  }\n",
              "\n",
              "  [theme=dark] .colab-df-quickchart:hover {\n",
              "    background-color: #434B5C;\n",
              "    box-shadow: 0px 1px 3px 1px rgba(0, 0, 0, 0.15);\n",
              "    filter: drop-shadow(0px 1px 2px rgba(0, 0, 0, 0.3));\n",
              "    fill: #FFFFFF;\n",
              "  }\n",
              "</style>\n",
              "\n",
              "    <script>\n",
              "      async function quickchart(key) {\n",
              "        const containerElement = document.querySelector('#' + key);\n",
              "        const charts = await google.colab.kernel.invokeFunction(\n",
              "            'suggestCharts', [key], {});\n",
              "      }\n",
              "    </script>\n",
              "\n",
              "      <script>\n",
              "\n",
              "function displayQuickchartButton(domScope) {\n",
              "  let quickchartButtonEl =\n",
              "    domScope.querySelector('#df-64cf4715-3100-404e-a4ed-76f4d001778c button.colab-df-quickchart');\n",
              "  quickchartButtonEl.style.display =\n",
              "    google.colab.kernel.accessAllowed ? 'block' : 'none';\n",
              "}\n",
              "\n",
              "        displayQuickchartButton(document);\n",
              "      </script>\n",
              "      <style>\n",
              "    .colab-df-container {\n",
              "      display:flex;\n",
              "      flex-wrap:wrap;\n",
              "      gap: 12px;\n",
              "    }\n",
              "\n",
              "    .colab-df-convert {\n",
              "      background-color: #E8F0FE;\n",
              "      border: none;\n",
              "      border-radius: 50%;\n",
              "      cursor: pointer;\n",
              "      display: none;\n",
              "      fill: #1967D2;\n",
              "      height: 32px;\n",
              "      padding: 0 0 0 0;\n",
              "      width: 32px;\n",
              "    }\n",
              "\n",
              "    .colab-df-convert:hover {\n",
              "      background-color: #E2EBFA;\n",
              "      box-shadow: 0px 1px 2px rgba(60, 64, 67, 0.3), 0px 1px 3px 1px rgba(60, 64, 67, 0.15);\n",
              "      fill: #174EA6;\n",
              "    }\n",
              "\n",
              "    [theme=dark] .colab-df-convert {\n",
              "      background-color: #3B4455;\n",
              "      fill: #D2E3FC;\n",
              "    }\n",
              "\n",
              "    [theme=dark] .colab-df-convert:hover {\n",
              "      background-color: #434B5C;\n",
              "      box-shadow: 0px 1px 3px 1px rgba(0, 0, 0, 0.15);\n",
              "      filter: drop-shadow(0px 1px 2px rgba(0, 0, 0, 0.3));\n",
              "      fill: #FFFFFF;\n",
              "    }\n",
              "  </style>\n",
              "\n",
              "      <script>\n",
              "        const buttonEl =\n",
              "          document.querySelector('#df-8f631459-96f0-4e7d-a58b-834f9a77a012 button.colab-df-convert');\n",
              "        buttonEl.style.display =\n",
              "          google.colab.kernel.accessAllowed ? 'block' : 'none';\n",
              "\n",
              "        async function convertToInteractive(key) {\n",
              "          const element = document.querySelector('#df-8f631459-96f0-4e7d-a58b-834f9a77a012');\n",
              "          const dataTable =\n",
              "            await google.colab.kernel.invokeFunction('convertToInteractive',\n",
              "                                                     [key], {});\n",
              "          if (!dataTable) return;\n",
              "\n",
              "          const docLinkHtml = 'Like what you see? Visit the ' +\n",
              "            '<a target=\"_blank\" href=https://colab.research.google.com/notebooks/data_table.ipynb>data table notebook</a>'\n",
              "            + ' to learn more about interactive tables.';\n",
              "          element.innerHTML = '';\n",
              "          dataTable['output_type'] = 'display_data';\n",
              "          await google.colab.output.renderOutput(dataTable, element);\n",
              "          const docLink = document.createElement('div');\n",
              "          docLink.innerHTML = docLinkHtml;\n",
              "          element.appendChild(docLink);\n",
              "        }\n",
              "      </script>\n",
              "    </div>\n",
              "  </div>\n"
            ]
          },
          "metadata": {},
          "execution_count": 36
        }
      ],
      "source": [
        "### START CODE HERE ###\n",
        "selected_columns = ['Rating', 'Votes', 'Metascore']\n",
        "df_csv[selected_columns].corr()\n",
        "### END CODE HERE ###"
      ]
    },
    {
      "cell_type": "markdown",
      "metadata": {
        "id": "kLHzx8KW51ur"
      },
      "source": [
        "# Question 3"
      ]
    },
    {
      "cell_type": "markdown",
      "metadata": {
        "id": "xQMEJJVI51ur"
      },
      "source": [
        "## File\n",
        "> Craet a .txt file and name it \"Name_actors\". You must write the name of all actors/actresses in the IMDB-Movie-Data.csv file. Don't write a name multiple time and write each name in a new line."
      ]
    },
    {
      "cell_type": "code",
      "execution_count": 32,
      "metadata": {
        "id": "li8flG_251us"
      },
      "outputs": [],
      "source": [
        "### START CODE HERE ###\n",
        "\n",
        "# Remove multiple nemes:\n",
        "nameActors = np.array(df_csv['Actors'].unique())\n",
        "\n",
        "# Create a .txt file :\n",
        "f = open(\"Name_actors.txt\", \"w+\")\n",
        "\n",
        "# Write Actors names:\n",
        "for x in nameActors :\n",
        "    f.write(x)\n",
        "    f.write('\\n')\n",
        "\n",
        "f.close()\n",
        "\n",
        "### END CODE HERE ###"
      ]
    },
    {
      "cell_type": "markdown",
      "metadata": {
        "id": "oXpoTAa-51us"
      },
      "source": [
        "# Question 4"
      ]
    },
    {
      "cell_type": "markdown",
      "metadata": {
        "id": "-l8ephAz51us"
      },
      "source": [
        "## Plot\n",
        ">You must plot the number of movies in each year according to the IMDB-Movie-Data.csv file. X-axis is year and y-axis show the number of movies in each year.\n",
        "> set the x_label, y_label and title for your plot."
      ]
    },
    {
      "cell_type": "code",
      "execution_count": 33,
      "metadata": {
        "id": "pVgfjlk_51us",
        "colab": {
          "base_uri": "https://localhost:8080/",
          "height": 472
        },
        "outputId": "a6cca3d3-6621-43ed-8ead-7fd8f9ee2370"
      },
      "outputs": [
        {
          "output_type": "display_data",
          "data": {
            "text/plain": [
              "<Figure size 640x480 with 1 Axes>"
            ],
            "image/png": "[encoded data removed]"
          },
          "metadata": {}
        }
      ],
      "source": [
        "### START CODE HERE ###\n",
        "\n",
        "# Number of movies in each year :\n",
        "numerOfMoviesInEachYear = df_csv['Year'].value_counts()\n",
        "\n",
        "## Plot :\n",
        "plt.plot(numerOfMoviesInEachYear, color = 'green')\n",
        "\n",
        "#Title and Labels :\n",
        "plt.title('Number of movies in each year graph')\n",
        "plt.xlabel('Years')\n",
        "plt.ylabel('Number of movies')\n",
        "\n",
        "plt.show()\n",
        "\n",
        "### END CODE HERE ###"
      ]
    },
    {
      "cell_type": "markdown",
      "metadata": {
        "id": "-xaIS92c51us"
      },
      "source": [
        "## Plot\n",
        ">You must plot the cos(x) curve. plot 20 cycle of the curve. the frequency of first half of curve is 50 Hz and frequency of second lalf is 200 Hz.\n",
        "> set the x_label, y_label and title for your plot."
      ]
    },
    {
      "cell_type": "code",
      "execution_count": 34,
      "metadata": {
        "colab": {
          "base_uri": "https://localhost:8080/",
          "height": 430
        },
        "id": "6WbBBTDDOagu",
        "outputId": "2bd4fcc5-24c6-4d38-ce76-783ae9fcee23"
      },
      "outputs": [
        {
          "output_type": "display_data",
          "data": {
            "text/plain": [
              "<Figure size 640x480 with 1 Axes>"
            ],
            "image/png": "[encoded data removed]"
          },
          "metadata": {}
        }
      ],
      "source": [
        "### START CODE HERE ###\n",
        "\n",
        "# Definiton cosine function :\n",
        "def cos_func(times, frequency):\n",
        "    return np.cos(frequency * times)\n",
        "\n",
        "# Specifying the domain :\n",
        "times1 = np.linspace(0, 0.4, num = 10000)\n",
        "times2 = np.linspace(0.4, 0.5, num = 10000)\n",
        "\n",
        "#Plot :\n",
        "plt.plot(times1, cos_func(times2, 500*20/8))\n",
        "plt.plot(times2, cos_func(times2, 500*20/8))\n",
        "plt.show()\n",
        "\n",
        "### END CODE HERE ###\n"
      ]
    }
  ],
  "metadata": {
    "colab": {
      "provenance": [],
      "include_colab_link": true
    },
    "kernelspec": {
      "display_name": "Python 3",
      "language": "python",
      "name": "python3"
    },
    "language_info": {
      "codemirror_mode": {
        "name": "ipython",
        "version": 3
      },
      "file_extension": ".py",
      "mimetype": "text/x-python",
      "name": "python",
      "nbconvert_exporter": "python",
      "pygments_lexer": "ipython3",
      "version": "3.11.1"
    },
    "orig_nbformat": 4,
    "vscode": {
      "interpreter": {
        "hash": "e956c49ae0caa224b5fdd754cbc353d7e61c6c61f7329ee680c7f7b4f1b71a8e"
      }
    }
  },
  "nbformat": 4,
  "nbformat_minor": 0
}